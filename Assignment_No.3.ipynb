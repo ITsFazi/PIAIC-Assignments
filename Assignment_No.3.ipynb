{
 "cells": [
  {
   "cell_type": "markdown",
   "metadata": {},
   "source": [
    "# Task 1\n",
    "### Python Program to Add a Key-Value Pair to the Dictionary"
   ]
  },
  {
   "cell_type": "code",
   "execution_count": 5,
   "metadata": {},
   "outputs": [
    {
     "name": "stdout",
     "output_type": "stream",
     "text": [
      "Enter the Key name: Name\n",
      "Enter the Value fo the Name keyFaizan\n",
      "{'Name': 'Faizan'}\n"
     ]
    }
   ],
   "source": [
    "Key=\"\"\n",
    "Value=\"\"\n",
    "Key=input(\"Enter the Key name: \")\n",
    "Value = input(f\"Enter the Value fo the {Key} key\")\n",
    "Dict= {}\n",
    "Dict.update({Key : Value})\n",
    "print(Dict)"
   ]
  },
  {
   "cell_type": "markdown",
   "metadata": {},
   "source": [
    "# Task 2\n",
    "### Program to Concatenate two dictionaries"
   ]
  },
  {
   "cell_type": "code",
   "execution_count": 14,
   "metadata": {},
   "outputs": [
    {
     "name": "stdout",
     "output_type": "stream",
     "text": [
      "{'Name': 'Faizan', 'Roll No.': 2205}\n"
     ]
    }
   ],
   "source": [
    "Dict2= {\"Roll No.\" : 2205}\n",
    "Dict3= {**Dict, **Dict2}\n",
    "print (Dict3)"
   ]
  },
  {
   "cell_type": "markdown",
   "metadata": {},
   "source": [
    "# Task 3\n",
    "### Python Program to Check if a Given Key Exists in a Dictionary or Not"
   ]
  },
  {
   "cell_type": "code",
   "execution_count": 23,
   "metadata": {},
   "outputs": [
    {
     "name": "stdout",
     "output_type": "stream",
     "text": [
      "Enter the Key Name to check in the DictionaryName\n",
      "The key Name is present in Dictionary named Dict3\n"
     ]
    }
   ],
   "source": [
    "Keytocheck= input(\"Enter the Key Name to check in the Dictionary\")\n",
    "if (Keytocheck in Dict3.keys()) :\n",
    "    print(f\"The key {Keytocheck} is present in Dictionary named Dict3\")\n",
    "else:\n",
    "    print(f\"The key {Keytocheck} is not present in Dictionary named Dict3\")"
   ]
  },
  {
   "cell_type": "markdown",
   "metadata": {},
   "source": [
    "# Task 4\n",
    "### Python Program to Generate a Dictionary that Contains Numbers (between 1 and n) in the Form (x,x*x)."
   ]
  },
  {
   "cell_type": "code",
   "execution_count": 56,
   "metadata": {},
   "outputs": [
    {
     "name": "stdout",
     "output_type": "stream",
     "text": [
      "Enter the length of the Series10\n",
      "{1: 1, 2: 4, 3: 9, 4: 16, 5: 25, 6: 36, 7: 49, 8: 64, 9: 81, 10: 100}\n"
     ]
    }
   ],
   "source": [
    "n= input(\"Enter the length of the Series\")\n",
    "Dict4 = {}\n",
    "for i in range (1,int(n)+1):\n",
    "    Dict4.update({i :(i*i)})\n",
    "print (Dict4)"
   ]
  },
  {
   "cell_type": "markdown",
   "metadata": {},
   "source": [
    "# Task 5\n",
    "### Python Program to sum all the items in the Dictionary"
   ]
  },
  {
   "cell_type": "code",
   "execution_count": 62,
   "metadata": {},
   "outputs": [
    {
     "name": "stdout",
     "output_type": "stream",
     "text": [
      "The Sum of all items in the dictionary is 385\n"
     ]
    }
   ],
   "source": [
    "Sum=0\n",
    "for i in range (1,int(n)+1):\n",
    "    Sum+= Dict4.get(i,None)\n",
    "print (f\"The Sum of all items in the dictionary is {Sum}\")"
   ]
  },
  {
   "cell_type": "markdown",
   "metadata": {},
   "source": [
    "# Task 6\n",
    "### Python program to Multiply all the items in the Dictionary"
   ]
  },
  {
   "cell_type": "code",
   "execution_count": 82,
   "metadata": {},
   "outputs": [
    {
     "ename": "TypeError",
     "evalue": "unsupported operand type(s) for *=: 'int' and 'NoneType'",
     "output_type": "error",
     "traceback": [
      "\u001b[1;31m---------------------------------------------------------------------------\u001b[0m",
      "\u001b[1;31mTypeError\u001b[0m                                 Traceback (most recent call last)",
      "\u001b[1;32m<ipython-input-82-a3bfcf5d659a>\u001b[0m in \u001b[0;36m<module>\u001b[1;34m\u001b[0m\n\u001b[0;32m      1\u001b[0m \u001b[0mMul\u001b[0m\u001b[1;33m=\u001b[0m\u001b[1;36m1\u001b[0m\u001b[1;33m\u001b[0m\u001b[1;33m\u001b[0m\u001b[0m\n\u001b[0;32m      2\u001b[0m \u001b[1;32mfor\u001b[0m \u001b[0mi\u001b[0m \u001b[1;32min\u001b[0m \u001b[0mrange\u001b[0m \u001b[1;33m(\u001b[0m\u001b[1;36m1\u001b[0m\u001b[1;33m,\u001b[0m\u001b[1;36m10\u001b[0m\u001b[1;33m)\u001b[0m\u001b[1;33m:\u001b[0m\u001b[1;33m\u001b[0m\u001b[1;33m\u001b[0m\u001b[0m\n\u001b[1;32m----> 3\u001b[1;33m     \u001b[0mMul\u001b[0m\u001b[1;33m*=\u001b[0m \u001b[0mDict4\u001b[0m\u001b[1;33m.\u001b[0m\u001b[0mget\u001b[0m\u001b[1;33m(\u001b[0m\u001b[0mi\u001b[0m\u001b[1;33m)\u001b[0m\u001b[1;33m\u001b[0m\u001b[1;33m\u001b[0m\u001b[0m\n\u001b[0m\u001b[0;32m      4\u001b[0m \u001b[0mprint\u001b[0m \u001b[1;33m(\u001b[0m\u001b[1;34mf\"The Multiplication of all items in the dictionary is {Mul}\"\u001b[0m\u001b[1;33m)\u001b[0m\u001b[1;33m\u001b[0m\u001b[1;33m\u001b[0m\u001b[0m\n",
      "\u001b[1;31mTypeError\u001b[0m: unsupported operand type(s) for *=: 'int' and 'NoneType'"
     ]
    }
   ],
   "source": [
    "Mul=1\n",
    "for i in range (1,10):\n",
    "    Mul*= Dict4.get(i)\n",
    "print (f\"The Multiplication of all items in the dictionary is {Mul}\")"
   ]
  },
  {
   "cell_type": "markdown",
   "metadata": {},
   "source": [
    "# Task 7\n",
    "### Python program to Delete a key from the Dictionary"
   ]
  },
  {
   "cell_type": "code",
   "execution_count": 81,
   "metadata": {},
   "outputs": [
    {
     "name": "stdout",
     "output_type": "stream",
     "text": [
      "dict_keys([1, 2, 3, 4, 5, 6, 7, 8, 9, 10])\n",
      "Enter the key name to remove: 8\n",
      "{1: 1, 2: 4, 3: 9, 4: 16, 5: 25, 6: 36, 7: 49, 9: 81, 10: 100}\n"
     ]
    }
   ],
   "source": [
    "print(Dict4.keys())\n",
    "keytoremove=input(\"Enter the key name to remove: \")\n",
    "if int (keytoremove) in Dict4:\n",
    "    del Dict4[int(keytoremove)]\n",
    "    print (Dict4)\n",
    "else:\n",
    "    print(\"Key Does not exists in the Dictionary\")\n"
   ]
  },
  {
   "cell_type": "markdown",
   "metadata": {},
   "source": [
    "## Task 8\n",
    "### Python Program to Map Two Lists into a Dictionary"
   ]
  },
  {
   "cell_type": "code",
   "execution_count": 91,
   "metadata": {},
   "outputs": [
    {
     "name": "stdout",
     "output_type": "stream",
     "text": [
      "Enter Key Name: Name\n",
      "Enter Name Value: Faizan\n",
      "{'Name': 'Faizan'}\n"
     ]
    }
   ],
   "source": [
    "List1 = []\n",
    "List2 = []\n",
    "for i in range(0,1):\n",
    "    Keys=input(\"Enter Key Name: \")\n",
    "    Values=input(f\"Enter {Keys} Value: \")\n",
    "    List1.append(str(Keys))\n",
    "    List2.append(str(Values))\n",
    "Dict5=dict(zip(List1, List2))\n",
    "print (Dict5)"
   ]
  },
  {
   "cell_type": "markdown",
   "metadata": {},
   "source": [
    "# Task 9 \n",
    "### Python Program to Count the Frequency of Words Appearing in a String Using a Dictionary"
   ]
  },
  {
   "cell_type": "code",
   "execution_count": 96,
   "metadata": {},
   "outputs": [
    {
     "name": "stdout",
     "output_type": "stream",
     "text": [
      "Enter the String: My My is is\n",
      "{'My': 2, 'is': 2}\n"
     ]
    }
   ],
   "source": [
    "string = input(\"Enter the String: \")\n",
    "List= string.split(\" \")\n",
    "KList=[]\n",
    "FrList=[]\n",
    "for CS in List:\n",
    "    KList.append(CS)\n",
    "    Fr=0\n",
    "    for S in List:\n",
    "        if (CS==S):\n",
    "            Fr+=1\n",
    "    FrList.append(Fr)\n",
    "\n",
    "\n",
    "Dict6=dict(zip(KList, FrList))\n",
    "print(Dict6)"
   ]
  },
  {
   "cell_type": "markdown",
   "metadata": {},
   "source": [
    "# Task 10\n",
    "### Python Program to Create a Dictionary with Key as First Character and Value as Words Starting with that Character"
   ]
  },
  {
   "cell_type": "code",
   "execution_count": null,
   "metadata": {},
   "outputs": [],
   "source": [
    "string = input(\"Enter the String: \")\n",
    "ListS= string.split(\" \")\n",
    "KList1=[]\n",
    "FrList1=[]\n",
    "for CS in List:\n",
    "    KList1.append(CS)\n",
    "    Fr=0\n",
    "    for S in ListS:\n",
    "        if (CS==S):\n",
    "            Fr+=1\n",
    "    FrList.append(Fr)\n",
    "\n",
    "Dict6=dict(zip(KList, FrList))\n",
    "print(Dict6)"
   ]
  }
 ],
 "metadata": {
  "kernelspec": {
   "display_name": "Python 3",
   "language": "python",
   "name": "python3"
  },
  "language_info": {
   "codemirror_mode": {
    "name": "ipython",
    "version": 3
   },
   "file_extension": ".py",
   "mimetype": "text/x-python",
   "name": "python",
   "nbconvert_exporter": "python",
   "pygments_lexer": "ipython3",
   "version": "3.7.4"
  }
 },
 "nbformat": 4,
 "nbformat_minor": 2
}
