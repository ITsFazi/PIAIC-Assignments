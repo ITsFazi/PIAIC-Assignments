{
 "cells": [
  {
   "cell_type": "code",
   "execution_count": 9,
   "metadata": {},
   "outputs": [],
   "source": [
    "MyString=\"My Name is faizan Younas\""
   ]
  },
  {
   "cell_type": "code",
   "execution_count": 13,
   "metadata": {},
   "outputs": [
    {
     "name": "stdout",
     "output_type": "stream",
     "text": [
      "Length of the MyString is\n",
      "24\n"
     ]
    }
   ],
   "source": [
    "print(\"Length of the MyString is\")\n",
    "print(MyString.__len__())"
   ]
  },
  {
   "cell_type": "code",
   "execution_count": 14,
   "metadata": {},
   "outputs": [
    {
     "name": "stdout",
     "output_type": "stream",
     "text": [
      "Upper Case of the MyString is\n",
      "MY NAME IS FAIZAN YOUNAS\n"
     ]
    }
   ],
   "source": [
    "print(\"Upper Case of the MyString is\")\n",
    "print(MyString.upper())"
   ]
  },
  {
   "cell_type": "code",
   "execution_count": 15,
   "metadata": {},
   "outputs": [
    {
     "name": "stdout",
     "output_type": "stream",
     "text": [
      "Adding String at the last of MyString\n",
      "My Name is faizan Younas and i am doing AI course from PIAIC\n"
     ]
    }
   ],
   "source": [
    "print (\"Adding String at the last of MyString\")\n",
    "print(MyString.__add__(\" and i am doing AI course from PIAIC\"))"
   ]
  },
  {
   "cell_type": "code",
   "execution_count": 16,
   "metadata": {},
   "outputs": [
    {
     "name": "stdout",
     "output_type": "stream",
     "text": [
      "Lowering the Case of MyString\n",
      "my name is faizan younas\n"
     ]
    }
   ],
   "source": [
    "print(\"Lowering the Case of MyString\")\n",
    "print(MyString.lower())"
   ]
  },
  {
   "cell_type": "code",
   "execution_count": 18,
   "metadata": {},
   "outputs": [
    {
     "name": "stdout",
     "output_type": "stream",
     "text": [
      "Finding index of name substring in MyString\n",
      "3\n"
     ]
    }
   ],
   "source": [
    "print(\"Finding index of name substring in MyString\")\n",
    "print(MyString.index(\"Name\"))"
   ]
  },
  {
   "cell_type": "code",
   "execution_count": 20,
   "metadata": {},
   "outputs": [
    {
     "name": "stdout",
     "output_type": "stream",
     "text": [
      "Swapping the Case of the MyString\n",
      "mY nAME IS FAIZAN yOUNAS\n"
     ]
    }
   ],
   "source": [
    "print (\"Swapping the Case of the MyString\")\n",
    "print (MyString.swapcase())"
   ]
  },
  {
   "cell_type": "code",
   "execution_count": null,
   "metadata": {},
   "outputs": [],
   "source": []
  }
 ],
 "metadata": {
  "kernelspec": {
   "display_name": "Python 3",
   "language": "python",
   "name": "python3"
  },
  "language_info": {
   "codemirror_mode": {
    "name": "ipython",
    "version": 3
   },
   "file_extension": ".py",
   "mimetype": "text/x-python",
   "name": "python",
   "nbconvert_exporter": "python",
   "pygments_lexer": "ipython3",
   "version": "3.7.4"
  }
 },
 "nbformat": 4,
 "nbformat_minor": 2
}
