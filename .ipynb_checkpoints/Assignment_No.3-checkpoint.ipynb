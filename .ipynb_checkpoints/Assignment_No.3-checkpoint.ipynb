{
 "cells": [
  {
   "cell_type": "markdown",
   "metadata": {},
   "source": [
    "# Task 1\n",
    "### Python Program to Add a Key-Value Pair to the Dictionary"
   ]
  },
  {
   "cell_type": "code",
   "execution_count": 5,
   "metadata": {},
   "outputs": [
    {
     "name": "stdout",
     "output_type": "stream",
     "text": [
      "Enter the Key name: Name\n",
      "Enter the Value fo the Name keyFaizan\n",
      "{'Name': 'Faizan'}\n"
     ]
    }
   ],
   "source": [
    "Key=\"\"\n",
    "Value=\"\"\n",
    "Key=input(\"Enter the Key name: \")\n",
    "Value = input(f\"Enter the Value fo the {Key} key\")\n",
    "Dict= {}\n",
    "Dict.update({Key : Value})\n",
    "print(Dict)"
   ]
  },
  {
   "cell_type": "markdown",
   "metadata": {},
   "source": [
    "# Task 2\n",
    "### Program to Concatenate two dictionaries"
   ]
  },
  {
   "cell_type": "code",
   "execution_count": 14,
   "metadata": {},
   "outputs": [
    {
     "name": "stdout",
     "output_type": "stream",
     "text": [
      "{'Name': 'Faizan', 'Roll No.': 2205}\n"
     ]
    }
   ],
   "source": [
    "Dict2= {\"Roll No.\" : 2205}\n",
    "Dict3= {**Dict, **Dict2}\n",
    "print (Dict3)"
   ]
  },
  {
   "cell_type": "code",
   "execution_count": null,
   "metadata": {},
   "outputs": [],
   "source": []
  }
 ],
 "metadata": {
  "kernelspec": {
   "display_name": "Python 3",
   "language": "python",
   "name": "python3"
  },
  "language_info": {
   "codemirror_mode": {
    "name": "ipython",
    "version": 3
   },
   "file_extension": ".py",
   "mimetype": "text/x-python",
   "name": "python",
   "nbconvert_exporter": "python",
   "pygments_lexer": "ipython3",
   "version": "3.7.4"
  }
 },
 "nbformat": 4,
 "nbformat_minor": 2
}
